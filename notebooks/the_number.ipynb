{
 "cells": [
  {
   "cell_type": "code",
   "execution_count": 1,
   "metadata": {},
   "outputs": [
    {
     "data": {
      "text/plain": [
       "'Targeted passive income pa: $90,000.00'"
      ]
     },
     "execution_count": 1,
     "metadata": {},
     "output_type": "execute_result"
    }
   ],
   "source": [
    "# base value of passive income, will fund all lifestyle\n",
    "passive_income_pa = 60000\n",
    "# add 10% to be able to keep on investing\n",
    "passive_income_pa = (passive_income_pa * 1.1)\n",
    "# add 14000 (pre calculated) as a tax buffer\n",
    "passive_income_pa += 24000\n",
    "\n",
    "\n",
    "\"Targeted passive income pa: ${:,.2f}\".format(passive_income_pa)"
   ]
  },
  {
   "cell_type": "code",
   "execution_count": 2,
   "metadata": {},
   "outputs": [
    {
     "name": "stdout",
     "output_type": "stream",
     "text": [
      "Actual passive income from last year: $11,000.00\n",
      "Balance is: $79,000.00\n"
     ]
    }
   ],
   "source": [
    "# Current passive income\n",
    "# from shares\n",
    "passive_income_last_year = 1000\n",
    "# from real estate\n",
    "passive_income_last_year += 10000\n",
    "\n",
    "passive_income_balance = passive_income_pa - passive_income_last_year\n",
    "print('Actual passive income from last year: ${:,.2f}'.format(passive_income_last_year))\n",
    "print('Balance is: ${:,.2f}'.format(passive_income_balance))\n"
   ]
  },
  {
   "cell_type": "code",
   "execution_count": 3,
   "metadata": {},
   "outputs": [
    {
     "name": "stdout",
     "output_type": "stream",
     "text": [
      "$1,128,571.43\n"
     ]
    }
   ],
   "source": [
    "# how much more needs to be invested to get the balance\n",
    "targeted_investment = passive_income_balance/0.07\n",
    "print('${:,.2f}'.format(targeted_investment))"
   ]
  }
 ],
 "metadata": {
  "kernelspec": {
   "display_name": "base",
   "language": "python",
   "name": "python3"
  },
  "language_info": {
   "codemirror_mode": {
    "name": "ipython",
    "version": 3
   },
   "file_extension": ".py",
   "mimetype": "text/x-python",
   "name": "python",
   "nbconvert_exporter": "python",
   "pygments_lexer": "ipython3",
   "version": "3.12.1"
  },
  "orig_nbformat": 4,
  "vscode": {
   "interpreter": {
    "hash": "ad2bdc8ecc057115af97d19610ffacc2b4e99fae6737bb82f5d7fb13d2f2c186"
   }
  }
 },
 "nbformat": 4,
 "nbformat_minor": 2
}
