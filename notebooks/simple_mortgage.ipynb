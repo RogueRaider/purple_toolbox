{
 "cells": [
  {
   "cell_type": "markdown",
   "metadata": {},
   "source": [
    "# Simple Mortgage Calculator\n",
    "\n",
    "Produces a financial model of a simple mortgage.\n",
    "\n",
    "Attributes\n",
    "* Interest\n",
    "* Deposit\n",
    "* Repayments\n",
    "* Term\n",
    "\n",
    "Inspired by https://mortgage.monster/\n"
   ]
  },
  {
   "cell_type": "code",
   "execution_count": 1,
   "metadata": {},
   "outputs": [
    {
     "name": "stdout",
     "output_type": "stream",
     "text": [
      "Initial cost: $137,415.45\n",
      "Loan Amount: $440,000.00\n",
      "Loan Value Ratio: 80%\n"
     ]
    }
   ],
   "source": [
    "\n",
    "\n",
    "import numpy_financial as npf\n",
    "\n",
    "# Entry values that don't change\n",
    "deposit = 110000\n",
    "property_value = 550000\n",
    "interest_rate = 0.07\n",
    "term = 30 # years\n",
    "\n",
    "# Initial costs that are a part of the set up.\n",
    "mortgage_costs = {\n",
    "    \"QLD\": {\n",
    "        \"existing_building\": {\n",
    "            \"stamp_duty\": 22725,\n",
    "            \"mortgage_registration_fee\": 197,\n",
    "            \"title_transfer_fee\": 1973,\n",
    "            \"title_search\": 20.45,\n",
    "            \"conveyancing\": 2500\n",
    "        }\n",
    "    }\n",
    "}\n",
    "\n",
    "initial_cost_option = mortgage_costs['QLD']['existing_building']\n",
    "\n",
    "loan_amount = property_value - deposit\n",
    "\n",
    "print('Initial cost: ${:,.2f}'.format(sum(initial_cost_option.values(), deposit)))\n",
    "print(f'Loan Amount: ${loan_amount:,.2f}')\n",
    "print(f'Loan Value Ratio: {loan_amount/ property_value:.0%}')\n"
   ]
  },
  {
   "cell_type": "code",
   "execution_count": 2,
   "metadata": {},
   "outputs": [
    {
     "name": "stdout",
     "output_type": "stream",
     "text": [
      "Repayment per fortnight: 1,350.45\n"
     ]
    }
   ],
   "source": [
    "repayment_intervals = {\n",
    "    'monthly': 12,\n",
    "    'fortnightly': 26\n",
    "}\n",
    "\n",
    "repayment_interval = repayment_intervals['fortnightly']\n",
    "\n",
    "repayment = npf.pmt(interest_rate/repayment_interval, repayment_interval*term, loan_amount)\n",
    "\n",
    "print(f'Repayment per fortnight: {abs(repayment):,.2f}')\n"
   ]
  },
  {
   "cell_type": "code",
   "execution_count": 3,
   "metadata": {},
   "outputs": [],
   "source": [
    "weekly_rental_income = 500\n",
    "\n",
    "# costs = {\n",
    "#     {\n",
    "#         'name': 'Rates',\n",
    "#         'value': 800,\n",
    "#         'frequency': 'quarterly'\n",
    "#     }\n",
    "# }\n",
    "\n"
   ]
  },
  {
   "cell_type": "code",
   "execution_count": 6,
   "metadata": {},
   "outputs": [
    {
     "name": "stdout",
     "output_type": "stream",
     "text": [
      "The autoreload extension is already loaded. To reload it, use:\n",
      "  %reload_ext autoreload\n",
      "            Payment            Interest  Principal    Balance\n",
      "2024-07-01  3326.51   2916.666666666667     409.85  499590.15\n",
      "2024-08-01  3326.51   2914.275899446163     412.24  499177.92\n",
      "2024-09-01  3326.51   2911.871186083539     414.64  498763.28\n",
      "2024-10-01  3326.51  2909.4524452263004     417.06  498346.22\n",
      "2024-11-01  3326.51   2907.019595047394     419.49  497926.72\n",
      "...             ...                 ...        ...        ...\n",
      "2054-02-01  3326.51    95.3482167261416    3231.16   13114.24\n",
      "2054-03-01  3326.51    76.4997585476543    3250.01    9864.23\n",
      "2054-04-01  3326.51   57.54135102978791    3268.97    6595.26\n",
      "2054-05-01  3326.51   38.47235280140264    3288.04    3307.22\n",
      "2054-06-01  3326.51  19.292118750016282    3307.22       0.00\n",
      "\n",
      "[360 rows x 4 columns]\n",
      "Summary Loan\n",
      "------------------------------\n",
      "Loan Amount:        500,000.00\n",
      "Payment:             $3,326.51\n",
      "Payoff Date:        2054-06-01\n",
      "Interest Paid:      697,544.49\n",
      "\n"
     ]
    },
    {
     "name": "stderr",
     "output_type": "stream",
     "text": [
      "d:\\PycharmProjects\\mortgage_model\\purple_toolbox\\toolbox.py:58: FutureWarning: Series.__getitem__ treating keys as positions is deprecated. In a future version, integer keys will always be treated as labels (consistent with DataFrame behavior). To access a value by position, use `ser.iloc[pos]`\n",
      "  print(f'Interest Paid: {amort.Interest.cumsum()[-1]:>15,.2f}')\n"
     ]
    },
    {
     "name": "stdout",
     "output_type": "stream",
     "text": [
      "            Payment            Interest  Principal    Balance\n",
      "2024-07-01  1534.61  1346.1538461538464     188.45  499811.55\n",
      "2024-07-15  1534.61   1345.646471118276     188.96  499622.59\n",
      "2024-07-29  1534.61  1345.1377300729944     189.47  499433.12\n",
      "2024-08-12  1534.61  1344.6276193402832     189.98  499243.14\n",
      "2024-08-26  1534.61  1344.1161352325228     190.49  499052.64\n",
      "...             ...                 ...        ...        ...\n",
      "2054-03-16  1534.61  20.492365018543254    1514.12    6097.33\n",
      "2054-03-30  1534.61   16.41590137991732    1518.19    4579.14\n",
      "2054-04-13  1534.61  12.328462646877968    1522.28    3056.86\n",
      "2054-04-27  1534.61   8.230019271097577    1526.38    1530.49\n",
      "2054-05-11  1534.61   4.120541624688508    1530.49       0.00\n",
      "\n",
      "[780 rows x 4 columns]\n",
      "Summary Loan\n",
      "------------------------------\n",
      "Loan Amount:        500,000.00\n",
      "Payment:             $1,534.61\n",
      "Payoff Date:        2054-05-11\n",
      "Interest Paid:      696,993.80\n"
     ]
    },
    {
     "name": "stderr",
     "output_type": "stream",
     "text": [
      "d:\\PycharmProjects\\mortgage_model\\purple_toolbox\\toolbox.py:58: FutureWarning: Series.__getitem__ treating keys as positions is deprecated. In a future version, integer keys will always be treated as labels (consistent with DataFrame behavior). To access a value by position, use `ser.iloc[pos]`\n",
      "  print(f'Interest Paid: {amort.Interest.cumsum()[-1]:>15,.2f}')\n"
     ]
    },
    {
     "data": {
      "text/plain": [
       "'53.76'"
      ]
     },
     "execution_count": 6,
     "metadata": {},
     "output_type": "execute_result"
    }
   ],
   "source": [
    "%load_ext autoreload\n",
    "%autoreload 2\n",
    "\n",
    "from toolbox import Loan\n",
    "\n",
    "l = Loan(0.07, 30, 500000)\n",
    "print(l.loan_table())\n",
    "l.summary()\n",
    "print()\n",
    "\n",
    "f = Loan(0.07, 30, 500000, 26)\n",
    "print(f.loan_table())\n",
    "f.summary()\n",
    "f.pay_early(100)\n",
    "\n",
    "\n"
   ]
  },
  {
   "cell_type": "code",
   "execution_count": 5,
   "metadata": {},
   "outputs": [
    {
     "ename": "TypeError",
     "evalue": "Loan.__init__() missing 3 required positional arguments: 'rate', 'term', and 'loan_amount'",
     "output_type": "error",
     "traceback": [
      "\u001b[1;31m---------------------------------------------------------------------------\u001b[0m",
      "\u001b[1;31mTypeError\u001b[0m                                 Traceback (most recent call last)",
      "Cell \u001b[1;32mIn[5], line 1\u001b[0m\n\u001b[1;32m----> 1\u001b[0m r \u001b[38;5;241m=\u001b[39m \u001b[43mLoan\u001b[49m\u001b[43m(\u001b[49m\u001b[43m)\u001b[49m\n",
      "\u001b[1;31mTypeError\u001b[0m: Loan.__init__() missing 3 required positional arguments: 'rate', 'term', and 'loan_amount'"
     ]
    }
   ],
   "source": [
    "r = Loan()"
   ]
  }
 ],
 "metadata": {
  "kernelspec": {
   "display_name": "venv",
   "language": "python",
   "name": "python3"
  },
  "language_info": {
   "codemirror_mode": {
    "name": "ipython",
    "version": 3
   },
   "file_extension": ".py",
   "mimetype": "text/x-python",
   "name": "python",
   "nbconvert_exporter": "python",
   "pygments_lexer": "ipython3",
   "version": "3.12.1"
  }
 },
 "nbformat": 4,
 "nbformat_minor": 2
}
